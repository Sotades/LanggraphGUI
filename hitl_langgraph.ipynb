{
 "cells": [
  {
   "metadata": {},
   "cell_type": "markdown",
   "source": "Create new HitlLanggraph\n",
   "id": "5e3a0f69c4383432"
  },
  {
   "metadata": {
    "ExecuteTime": {
     "end_time": "2025-04-17T21:04:03.270584Z",
     "start_time": "2025-04-17T21:04:03.088768Z"
    }
   },
   "cell_type": "code",
   "source": [
    "from sotades.langgraph.hitl_langgraph import HitlLanggraph\n",
    "from sotades.langgraph.state import State\n",
    "\n",
    "hitl_langgraph = HitlLanggraph()\n",
    "hitl_langgraph.load_dotenv()\n",
    "\n"
   ],
   "id": "306d69c024971e56",
   "outputs": [],
   "execution_count": 2
  },
  {
   "metadata": {},
   "cell_type": "markdown",
   "source": "## Connect with an LLM\n",
   "id": "ac6778e182ef3073"
  },
  {
   "metadata": {
    "ExecuteTime": {
     "end_time": "2025-04-17T21:04:05.664395Z",
     "start_time": "2025-04-17T21:04:04.828646Z"
    }
   },
   "cell_type": "code",
   "source": [
    "from langchain_openai import ChatOpenAI\n",
    "\n",
    "chatModel4o = ChatOpenAI(model=\"gpt-4o\")"
   ],
   "id": "236f33b59cd64683",
   "outputs": [],
   "execution_count": 3
  },
  {
   "metadata": {},
   "cell_type": "markdown",
   "source": "## Load System Message\n",
   "id": "539e38a0df4a6e0c"
  },
  {
   "metadata": {
    "ExecuteTime": {
     "end_time": "2025-04-17T21:04:06.856512Z",
     "start_time": "2025-04-17T21:04:06.852440Z"
    }
   },
   "cell_type": "code",
   "source": "hitl_langgraph.load_system_message()",
   "id": "20c179ebc87095c7",
   "outputs": [
    {
     "data": {
      "text/plain": [
       "SystemMessage(content='You are a helpful assistant tasked with performing XSLT mappings.', additional_kwargs={}, response_metadata={})"
      ]
     },
     "execution_count": 4,
     "metadata": {},
     "output_type": "execute_result"
    }
   ],
   "execution_count": 4
  },
  {
   "metadata": {},
   "cell_type": "markdown",
   "source": "## Build the Graph\n",
   "id": "bed7b2e59bade33d"
  },
  {
   "metadata": {
    "ExecuteTime": {
     "end_time": "2025-04-17T21:04:09.247086Z",
     "start_time": "2025-04-17T21:04:08.995654Z"
    }
   },
   "cell_type": "code",
   "source": "hitl_langgraph.build_graph()",
   "id": "13c026bcec78664c",
   "outputs": [
    {
     "data": {
      "text/plain": [
       "<langgraph.graph.state.CompiledStateGraph object at 0x000001BE80649160>"
      ],
      "image/png": "[encoded data removed]"
     },
     "execution_count": 5,
     "metadata": {},
     "output_type": "execute_result"
    }
   ],
   "execution_count": 5
  },
  {
   "metadata": {},
   "cell_type": "markdown",
   "source": "## Execute the Graph\n",
   "id": "c453c64efba580a4"
  },
  {
   "metadata": {
    "ExecuteTime": {
     "end_time": "2025-04-17T21:13:06.047834Z",
     "start_time": "2025-04-17T21:04:13.943080Z"
    }
   },
   "cell_type": "code",
   "source": [
    "from langchain_core.messages import HumanMessage\n",
    "\n",
    "state = State(messages=[hitl_langgraph.system_message])\n",
    "# human_message = HumanMessage(content=\"Your message content here\")\n",
    "# state[\"messages\"].append(human_message)\n",
    "\n",
    "hitl_langgraph.execute_graph(state)"
   ],
   "id": "783eacf40a5d6e84",
   "outputs": [
    {
     "name": "stdout",
     "output_type": "stream",
     "text": [
      "================================\u001B[1m System Message \u001B[0m================================\n",
      "\n",
      "You are a helpful assistant tasked with performing XSLT mappings.\n",
      "Next state: ('gui_initial_send',)\n",
      "================================\u001B[1m System Message \u001B[0m================================\n",
      "\n",
      "You are a helpful assistant tasked with performing XSLT mappings.\n",
      "Next state: ()\n"
     ]
    }
   ],
   "execution_count": 6
  },
  {
   "metadata": {},
   "cell_type": "code",
   "source": "",
   "id": "59ee2293d78f51e4",
   "outputs": [],
   "execution_count": null
  }
 ],
 "metadata": {
  "kernelspec": {
   "display_name": "Python 3",
   "language": "python",
   "name": "python3"
  },
  "language_info": {
   "codemirror_mode": {
    "name": "ipython",
    "version": 2
   },
   "file_extension": ".py",
   "mimetype": "text/x-python",
   "name": "python",
   "nbconvert_exporter": "python",
   "pygments_lexer": "ipython2",
   "version": "2.7.6"
  }
 },
 "nbformat": 4,
 "nbformat_minor": 5
}
